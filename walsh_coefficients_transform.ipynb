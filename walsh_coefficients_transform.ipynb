{
 "cells": [
  {
   "cell_type": "code",
   "execution_count": 29,
   "metadata": {},
   "outputs": [],
   "source": [
    "import numpy as np\n",
    "import pandas as pd"
   ]
  },
  {
   "cell_type": "code",
   "execution_count": 15,
   "metadata": {},
   "outputs": [],
   "source": [
    "def multiply(x,y):\n",
    "    x_and_y = \"{0:b}\".format(int(x, 2) & int(y, 2)) # x AND y\n",
    "    return x_and_y.count('1') % 2 # return Hamming weight of x AND y (mod 2)"
   ]
  },
  {
   "cell_type": "code",
   "execution_count": 16,
   "metadata": {},
   "outputs": [],
   "source": [
    "def walsh_coefficient(truth_table, a, b):\n",
    "    coeff = 0\n",
    "    \n",
    "    for x in truth_table.keys():\n",
    "        fx = truth_table[x]\n",
    "        coeff += (-1)**((multiply(b,fx)+multiply(a,x)) % 2) # b*F(x) + ax (mod 2)\n",
    "        \n",
    "    return coeff"
   ]
  },
  {
   "cell_type": "code",
   "execution_count": 27,
   "metadata": {},
   "outputs": [],
   "source": [
    "def calculate_walsh_table(truth_table):\n",
    "    n = len(truth_table)\n",
    "    walsh_table = np.zeros((n,n), dtype=np.int32) # create empty array of size n*n\n",
    "    \n",
    "    # for each a,b in the field, calculate the walsh coefficient of (a,b)\n",
    "    for i in range(n):\n",
    "        for j in range(n):\n",
    "            walsh_table[i,j] = walsh_coefficient(\n",
    "                truth_table, \n",
    "                list(truth_table.keys())[i],\n",
    "                list(truth_table.keys())[j])\n",
    "            \n",
    "    return walsh_table"
   ]
  },
  {
   "cell_type": "code",
   "execution_count": 23,
   "metadata": {},
   "outputs": [],
   "source": [
    "truth_t = {'000': '000',\n",
    "           '001': '100',\n",
    "           '010': '100',\n",
    "           '100': '011',\n",
    "           '011': '011',\n",
    "           '110': '100',\n",
    "           '111': '001',\n",
    "           '101': '101'}"
   ]
  },
  {
   "cell_type": "code",
   "execution_count": 33,
   "metadata": {},
   "outputs": [
    {
     "data": {
      "text/html": [
       "<div>\n",
       "<style scoped>\n",
       "    .dataframe tbody tr th:only-of-type {\n",
       "        vertical-align: middle;\n",
       "    }\n",
       "\n",
       "    .dataframe tbody tr th {\n",
       "        vertical-align: top;\n",
       "    }\n",
       "\n",
       "    .dataframe thead th {\n",
       "        text-align: right;\n",
       "    }\n",
       "</style>\n",
       "<table border=\"1\" class=\"dataframe\">\n",
       "  <thead>\n",
       "    <tr style=\"text-align: right;\">\n",
       "      <th></th>\n",
       "      <th>000</th>\n",
       "      <th>001</th>\n",
       "      <th>010</th>\n",
       "      <th>100</th>\n",
       "      <th>011</th>\n",
       "      <th>110</th>\n",
       "      <th>111</th>\n",
       "      <th>101</th>\n",
       "    </tr>\n",
       "  </thead>\n",
       "  <tbody>\n",
       "    <tr>\n",
       "      <th>000</th>\n",
       "      <td>8</td>\n",
       "      <td>0</td>\n",
       "      <td>4</td>\n",
       "      <td>0</td>\n",
       "      <td>4</td>\n",
       "      <td>-4</td>\n",
       "      <td>0</td>\n",
       "      <td>-4</td>\n",
       "    </tr>\n",
       "    <tr>\n",
       "      <th>001</th>\n",
       "      <td>0</td>\n",
       "      <td>4</td>\n",
       "      <td>0</td>\n",
       "      <td>0</td>\n",
       "      <td>4</td>\n",
       "      <td>0</td>\n",
       "      <td>0</td>\n",
       "      <td>0</td>\n",
       "    </tr>\n",
       "    <tr>\n",
       "      <th>010</th>\n",
       "      <td>0</td>\n",
       "      <td>0</td>\n",
       "      <td>0</td>\n",
       "      <td>0</td>\n",
       "      <td>0</td>\n",
       "      <td>0</td>\n",
       "      <td>4</td>\n",
       "      <td>4</td>\n",
       "    </tr>\n",
       "    <tr>\n",
       "      <th>100</th>\n",
       "      <td>0</td>\n",
       "      <td>4</td>\n",
       "      <td>0</td>\n",
       "      <td>0</td>\n",
       "      <td>4</td>\n",
       "      <td>0</td>\n",
       "      <td>0</td>\n",
       "      <td>0</td>\n",
       "    </tr>\n",
       "    <tr>\n",
       "      <th>011</th>\n",
       "      <td>0</td>\n",
       "      <td>-4</td>\n",
       "      <td>-4</td>\n",
       "      <td>8</td>\n",
       "      <td>0</td>\n",
       "      <td>4</td>\n",
       "      <td>4</td>\n",
       "      <td>0</td>\n",
       "    </tr>\n",
       "    <tr>\n",
       "      <th>110</th>\n",
       "      <td>0</td>\n",
       "      <td>4</td>\n",
       "      <td>4</td>\n",
       "      <td>0</td>\n",
       "      <td>0</td>\n",
       "      <td>4</td>\n",
       "      <td>-4</td>\n",
       "      <td>0</td>\n",
       "    </tr>\n",
       "    <tr>\n",
       "      <th>111</th>\n",
       "      <td>0</td>\n",
       "      <td>0</td>\n",
       "      <td>0</td>\n",
       "      <td>0</td>\n",
       "      <td>0</td>\n",
       "      <td>0</td>\n",
       "      <td>4</td>\n",
       "      <td>4</td>\n",
       "    </tr>\n",
       "    <tr>\n",
       "      <th>101</th>\n",
       "      <td>0</td>\n",
       "      <td>0</td>\n",
       "      <td>4</td>\n",
       "      <td>0</td>\n",
       "      <td>-4</td>\n",
       "      <td>4</td>\n",
       "      <td>0</td>\n",
       "      <td>4</td>\n",
       "    </tr>\n",
       "  </tbody>\n",
       "</table>\n",
       "</div>"
      ],
      "text/plain": [
       "     000  001  010  100  011  110  111  101\n",
       "000    8    0    4    0    4   -4    0   -4\n",
       "001    0    4    0    0    4    0    0    0\n",
       "010    0    0    0    0    0    0    4    4\n",
       "100    0    4    0    0    4    0    0    0\n",
       "011    0   -4   -4    8    0    4    4    0\n",
       "110    0    4    4    0    0    4   -4    0\n",
       "111    0    0    0    0    0    0    4    4\n",
       "101    0    0    4    0   -4    4    0    4"
      ]
     },
     "execution_count": 33,
     "metadata": {},
     "output_type": "execute_result"
    }
   ],
   "source": [
    "walsh_t = calculate_walsh_table(truth_t)\n",
    "walsh_pd = pd.DataFrame(data=walsh_t, \n",
    "                        index=list(truth_t.keys()), \n",
    "                        columns=list(truth_t.keys()))\n",
    "walsh_pd"
   ]
  },
  {
   "cell_type": "code",
   "execution_count": 34,
   "metadata": {},
   "outputs": [],
   "source": [
    "def power_moments(walsh_table, k): # sum every element of matrix to the power k\n",
    "    f = lambda x: x ** k\n",
    "    return np.sum(f(walsh_table))"
   ]
  },
  {
   "cell_type": "code",
   "execution_count": 42,
   "metadata": {},
   "outputs": [
    {
     "name": "stdout",
     "output_type": "stream",
     "text": [
      "1. power moment: 64\n",
      "2. power moment: 512\n",
      "3. power moment: 1792\n",
      "4. power moment: 14336\n"
     ]
    }
   ],
   "source": [
    "for i in range(1,5):\n",
    "    print(\"%d. power moment: %d\" % (i, power_moments(walsh_t, i)))"
   ]
  },
  {
   "cell_type": "code",
   "execution_count": null,
   "metadata": {},
   "outputs": [],
   "source": []
  }
 ],
 "metadata": {
  "kernelspec": {
   "display_name": "Python 3",
   "language": "python",
   "name": "python3"
  },
  "language_info": {
   "codemirror_mode": {
    "name": "ipython",
    "version": 3
   },
   "file_extension": ".py",
   "mimetype": "text/x-python",
   "name": "python",
   "nbconvert_exporter": "python",
   "pygments_lexer": "ipython3",
   "version": "3.7.7"
  }
 },
 "nbformat": 4,
 "nbformat_minor": 2
}
