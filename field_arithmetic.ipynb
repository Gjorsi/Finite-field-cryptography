{
 "cells": [
  {
   "cell_type": "code",
   "execution_count": 1,
   "metadata": {},
   "outputs": [],
   "source": [
    "import numpy as np\n",
    "from itertools import product"
   ]
  },
  {
   "cell_type": "code",
   "execution_count": 2,
   "metadata": {},
   "outputs": [],
   "source": [
    "def add(a,b):\n",
    "    #addition is simple, XOR the binary representation of polynomials a and b\n",
    "    result = np.zeros(8, dtype=int)\n",
    "    for i in range(8):\n",
    "        result[i] = np.mod(a[i]+b[i], 2)\n",
    "    return result"
   ]
  },
  {
   "cell_type": "code",
   "execution_count": 3,
   "metadata": {},
   "outputs": [],
   "source": [
    "def div_mod_2(divident, divisor):\n",
    "    if len(divisor)>len(divident): raise Exception('Divisor is larger than divident')\n",
    "    # calculates remainder of division\n",
    "    while (len(divisor) <= len(divident)):\n",
    "        for i in range(len(divisor)):\n",
    "            divident[i] = np.mod(divident[i]+divisor[i], 2)\n",
    "            \n",
    "        while(divident[0] == 0): divident.pop(0)\n",
    "        \n",
    "    return divident"
   ]
  },
  {
   "cell_type": "code",
   "execution_count": 4,
   "metadata": {},
   "outputs": [],
   "source": [
    "def multiply(a,b):\n",
    "    reverse_a = np.flip(a) #reverse to use array positions as exponent\n",
    "    reverse_b = np.flip(b)\n",
    "    a_exp = np.asarray(reverse_a == 1).nonzero()[0] #exponents where bit is 1\n",
    "    b_exp = np.asarray(reverse_b == 1).nonzero()[0]\n",
    "    prod_exp = {}\n",
    "    \n",
    "    for x,y in product(a_exp, b_exp): #calculate product of polynomials a_exp and b_exp\n",
    "        ab = x+y\n",
    "        if ab in prod_exp.keys(): prod_exp[ab] += 1\n",
    "        else: prod_exp[ab] = 1\n",
    "        \n",
    "    prod = np.zeros(15, dtype=int)\n",
    "    for i in range(15): #represent the product as binary (each part mod 2)\n",
    "        if i not in prod_exp.keys(): prod[i] = 0\n",
    "        elif np.mod(prod_exp[i], 2) == 0: prod[i] = 0\n",
    "        else: prod[i] = 1\n",
    "            \n",
    "    prod = np.flip(prod).tolist() #flip back to standard order\n",
    "        \n",
    "    divisor = \"100011011\" #x^8 + x^4 + x^3 + x +1\n",
    "    divisor = [int(i) for i in divisor] #convert it to list of integers\n",
    "    remainder = div_mod_2(prod, divisor)\n",
    "    return remainder"
   ]
  },
  {
   "cell_type": "code",
   "execution_count": 5,
   "metadata": {},
   "outputs": [],
   "source": [
    "def calculate(input_a, input_b):\n",
    "    a = np.array(list('{:08b}'.format(input_a)), dtype=int) #convert to binary array\n",
    "    b = np.array(list('{:08b}'.format(input_b)), dtype=int)\n",
    "    mult_result = np.array(multiply(a,b))\n",
    "    mult_result_decimal = int(np.array2string(mult_result, separator='')[1:-1], 2)\n",
    "    add_result = add(a,b)\n",
    "    add_result_decimal = int(np.array2string(add_result, separator='')[1:-1], 2)\n",
    "    print(str(input_a) + ' + ' + str(input_b) + ' = ' + str(add_result_decimal))\n",
    "    print(str(input_a) + ' * ' + str(input_b) + ' = ' + str(mult_result_decimal))\n",
    "    print('--- Binary ---')\n",
    "    print(str(a) + ' + ' + str(b) + ' = ' + str(add_result))\n",
    "    print(str(a) + ' * ' + str(b) + ' = ' + str(mult_result))"
   ]
  },
  {
   "cell_type": "code",
   "execution_count": 6,
   "metadata": {},
   "outputs": [
    {
     "name": "stdout",
     "output_type": "stream",
     "text": [
      "5 + 11 = 14\n",
      "5 * 11 = 39\n",
      "--- Binary ---\n",
      "[0 0 0 0 0 1 0 1] + [0 0 0 0 1 0 1 1] = [0 0 0 0 1 1 1 0]\n",
      "[0 0 0 0 0 1 0 1] * [0 0 0 0 1 0 1 1] = [1 0 0 1 1 1]\n"
     ]
    }
   ],
   "source": [
    "calculate(5, 11)"
   ]
  },
  {
   "cell_type": "code",
   "execution_count": 7,
   "metadata": {},
   "outputs": [
    {
     "name": "stdout",
     "output_type": "stream",
     "text": [
      "83 + 202 = 153\n",
      "83 * 202 = 1\n",
      "--- Binary ---\n",
      "[0 1 0 1 0 0 1 1] + [1 1 0 0 1 0 1 0] = [1 0 0 1 1 0 0 1]\n",
      "[0 1 0 1 0 0 1 1] * [1 1 0 0 1 0 1 0] = [1]\n",
      "-----------------------\n",
      "123 + 41 = 82\n",
      "123 * 41 = 119\n",
      "--- Binary ---\n",
      "[0 1 1 1 1 0 1 1] + [0 0 1 0 1 0 0 1] = [0 1 0 1 0 0 1 0]\n",
      "[0 1 1 1 1 0 1 1] * [0 0 1 0 1 0 0 1] = [1 1 1 0 1 1 1]\n",
      "-----------------------\n",
      "15 + 150 = 153\n",
      "15 * 150 = 19\n",
      "--- Binary ---\n",
      "[0 0 0 0 1 1 1 1] + [1 0 0 1 0 1 1 0] = [1 0 0 1 1 0 0 1]\n",
      "[0 0 0 0 1 1 1 1] * [1 0 0 1 0 1 1 0] = [1 0 0 1 1]\n"
     ]
    }
   ],
   "source": [
    "calculate(83, 202)\n",
    "print('-----------------------')\n",
    "calculate(123, 41)\n",
    "print('-----------------------')\n",
    "calculate(15, 150)"
   ]
  },
  {
   "cell_type": "code",
   "execution_count": 6,
   "metadata": {},
   "outputs": [
    {
     "name": "stdout",
     "output_type": "stream",
     "text": [
      "53 + 182 = 131\n",
      "53 * 182 = 252\n",
      "--- Binary ---\n",
      "[0 0 1 1 0 1 0 1] + [1 0 1 1 0 1 1 0] = [1 0 0 0 0 0 1 1]\n",
      "[0 0 1 1 0 1 0 1] * [1 0 1 1 0 1 1 0] = [1 1 1 1 1 1 0 0]\n"
     ]
    }
   ],
   "source": [
    "calculate(53, 182)"
   ]
  },
  {
   "cell_type": "code",
   "execution_count": null,
   "metadata": {},
   "outputs": [],
   "source": []
  }
 ],
 "metadata": {
  "kernelspec": {
   "display_name": "Python 3",
   "language": "python",
   "name": "python3"
  },
  "language_info": {
   "codemirror_mode": {
    "name": "ipython",
    "version": 3
   },
   "file_extension": ".py",
   "mimetype": "text/x-python",
   "name": "python",
   "nbconvert_exporter": "python",
   "pygments_lexer": "ipython3",
   "version": "3.7.4"
  }
 },
 "nbformat": 4,
 "nbformat_minor": 2
}
