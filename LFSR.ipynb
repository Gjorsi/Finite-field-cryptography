{
 "cells": [
  {
   "cell_type": "code",
   "execution_count": 1,
   "metadata": {},
   "outputs": [],
   "source": [
    "import numpy as np"
   ]
  },
  {
   "cell_type": "code",
   "execution_count": 2,
   "metadata": {},
   "outputs": [],
   "source": [
    "def generate_LFSR_keystream(feedback, initial_state, iterations):\n",
    "    feedback_positions = [pos for pos, bit in enumerate(feedback) if '1' in bit]\n",
    "    matrix = np.zeros((iterations+1, len(feedback)))\n",
    "    matrix[0,:] = list(initial_state) # set initial state in matrix\n",
    "    output = \"\"\n",
    "    \n",
    "    for i in range(iterations):\n",
    "        output += '%d' % matrix[i, -1]\n",
    "        sum_bit = np.sum(matrix[i,:][feedback_positions])\n",
    "        matrix[i+1, :] = np.roll(matrix[i, :], 1) #shift all bits to the right\n",
    "        matrix[i+1, 0] = np.mod(sum_bit, 2) #set the sum modulo 2 in the left-most position\n",
    "        \n",
    "    return output"
   ]
  },
  {
   "cell_type": "code",
   "execution_count": 3,
   "metadata": {},
   "outputs": [
    {
     "name": "stdout",
     "output_type": "stream",
     "text": [
      "0111101011001000\n"
     ]
    }
   ],
   "source": [
    "print(generate_LFSR_keystream(\"1001\", \"1110\", 16))"
   ]
  },
  {
   "cell_type": "code",
   "execution_count": 4,
   "metadata": {},
   "outputs": [
    {
     "name": "stdout",
     "output_type": "stream",
     "text": [
      "0001110000010101010011111101010101011111010101010100010100100101001110000001100001100001010101110010110001101010101101011010100111001110001100011110011001100001111010111001110100010111100101110001000100000110100100101101110111001010010001010011000001100000100101010100111101111110111011100001111011001010010000111100101000001010111000110011011101010101110011110010100000100000011101101001110100000000010001111000000001110101111111110100110101111100101001111111100000111001101000111010001010100101110001011110011000101100110010001010111011110101001010101011011011110111011000101101000001111010011001100000101000011111001101111011001100011011100101101111010101000010101100101101111101101111100000000101011100100001001011001111011010101101000001110011010001000100100011111101101001011101011011010011110001100110010001001011101011100101001001010110010001010101001100111111000011111111111010001100110000100100000001100110101010001100110001110111010111010101000100000110001011100011111010001100111011101011\n"
     ]
    }
   ],
   "source": [
    "input_file = open(\"lfsr_input.txt\",\"r\")\n",
    "feedback = input_file.readline()[:-1] # cut last char which is linebreak\n",
    "initial_state = input_file.readline()[:-1] # cut last char which is linebreak\n",
    "iterations = int(input_file.readline())\n",
    "print(generate_LFSR_keystream(feedback, initial_state, iterations))"
   ]
  }
 ],
 "metadata": {
  "kernelspec": {
   "display_name": "Python 3",
   "language": "python",
   "name": "python3"
  },
  "language_info": {
   "codemirror_mode": {
    "name": "ipython",
    "version": 3
   },
   "file_extension": ".py",
   "mimetype": "text/x-python",
   "name": "python",
   "nbconvert_exporter": "python",
   "pygments_lexer": "ipython3",
   "version": "3.7.4"
  }
 },
 "nbformat": 4,
 "nbformat_minor": 2
}
