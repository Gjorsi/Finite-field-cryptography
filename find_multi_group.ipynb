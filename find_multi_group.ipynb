{
 "cells": [
  {
   "cell_type": "code",
   "execution_count": 1,
   "metadata": {},
   "outputs": [],
   "source": [
    "# find the smallest possible generator to create a multiplicative cyclic group of prime p\n",
    "def smallest_generator(p):\n",
    "    a = 2 # generator candidate\n",
    "    while a < p: # testing generators up to p-1\n",
    "        elements = []\n",
    "        for x in range(1,p): # every exponent from 1 to p-1\n",
    "            e = pow(a, x, p) # a^x mod p\n",
    "            if e in elements: break # break if this element already exists\n",
    "            elements.append(e)\n",
    "        \n",
    "        # if the generator generated p-1 elements before looping, it is valid\n",
    "        if len(elements) == p-1: return a, elements\n",
    "        \n",
    "        a += 1 # next generator candidate\n",
    "        \n",
    "    return None, []"
   ]
  },
  {
   "cell_type": "code",
   "execution_count": 2,
   "metadata": {},
   "outputs": [
    {
     "name": "stdout",
     "output_type": "stream",
     "text": [
      "Generator: 5\n"
     ]
    }
   ],
   "source": [
    "generator, elements = smallest_generator(1103)\n",
    "print(\"Generator: %d\" % generator)\n",
    "#print(\"Elements: \")\n",
    "#print(elements)"
   ]
  },
  {
   "cell_type": "code",
   "execution_count": null,
   "metadata": {},
   "outputs": [],
   "source": []
  }
 ],
 "metadata": {
  "kernelspec": {
   "display_name": "Python 3",
   "language": "python",
   "name": "python3"
  },
  "language_info": {
   "codemirror_mode": {
    "name": "ipython",
    "version": 3
   },
   "file_extension": ".py",
   "mimetype": "text/x-python",
   "name": "python",
   "nbconvert_exporter": "python",
   "pygments_lexer": "ipython3",
   "version": "3.7.7"
  }
 },
 "nbformat": 4,
 "nbformat_minor": 2
}
